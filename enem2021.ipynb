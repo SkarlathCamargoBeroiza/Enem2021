{
 "cells": [
  {
   "cell_type": "markdown",
   "id": "6afab199",
   "metadata": {},
   "source": [
    "<h1>ENEM 2021</h1>\n",
    "    \n",
    "Esta é uma breve análise sobre os dados de inscritos no <b>ENEM 2021</b> de acordo com os dados encontrados <a href='https://www.gov.br/inep/pt-br/acesso-a-informacao/dados-abertos/microdados/enem'>neste dataset</a>.\n"
   ]
  },
  {
   "cell_type": "code",
   "execution_count": 1,
   "id": "c60e3f7b",
   "metadata": {},
   "outputs": [],
   "source": [
    "import pandas as pd\n",
    "import numpy as mp\n",
    "import matplotlib.pyplot as plt\n",
    "import seaborn as sns"
   ]
  },
  {
   "cell_type": "code",
   "execution_count": 2,
   "id": "3303ab31",
   "metadata": {},
   "outputs": [],
   "source": [
    "plt.style.use('seaborn-colorblind')"
   ]
  },
  {
   "cell_type": "code",
   "execution_count": 3,
   "id": "1690ea30",
   "metadata": {
    "scrolled": false
   },
   "outputs": [],
   "source": [
    "enem = pd.read_csv(r\"C:\\Users\\user-08\\Downloads\\microdados_enem_2021\\DADOS\\MICRODADOS_ENEM_2021.csv\",encoding='ISO-8859–1',sep=';',dtype='string')"
   ]
  },
  {
   "cell_type": "markdown",
   "id": "9b607e99",
   "metadata": {},
   "source": [
    "Primeiro foram selecionadas algumas informações principais dos candidatos, descartando informações prescindíveis."
   ]
  },
  {
   "cell_type": "code",
   "execution_count": 4,
   "id": "c5f42980",
   "metadata": {},
   "outputs": [
    {
     "data": {
      "text/html": [
       "<div>\n",
       "<style scoped>\n",
       "    .dataframe tbody tr th:only-of-type {\n",
       "        vertical-align: middle;\n",
       "    }\n",
       "\n",
       "    .dataframe tbody tr th {\n",
       "        vertical-align: top;\n",
       "    }\n",
       "\n",
       "    .dataframe thead th {\n",
       "        text-align: right;\n",
       "    }\n",
       "</style>\n",
       "<table border=\"1\" class=\"dataframe\">\n",
       "  <thead>\n",
       "    <tr style=\"text-align: right;\">\n",
       "      <th></th>\n",
       "      <th>TP_FAIXA_ETARIA</th>\n",
       "      <th>TP_SEXO</th>\n",
       "      <th>TP_COR_RACA</th>\n",
       "      <th>TP_ESCOLA</th>\n",
       "      <th>SG_UF_RESIDENCIA</th>\n",
       "      <th>Q006</th>\n",
       "      <th>Q025</th>\n",
       "    </tr>\n",
       "  </thead>\n",
       "  <tbody>\n",
       "    <tr>\n",
       "      <th>0</th>\n",
       "      <td>20 anos</td>\n",
       "      <td>Feminino</td>\n",
       "      <td>Branca</td>\n",
       "      <td>Não Respondeu</td>\n",
       "      <td>MG</td>\n",
       "      <td>De R$ 1.650,01 até R$ 2.200,00.</td>\n",
       "      <td>Sim</td>\n",
       "    </tr>\n",
       "    <tr>\n",
       "      <th>1</th>\n",
       "      <td>Entre 31 e 35 anos</td>\n",
       "      <td>Masculino</td>\n",
       "      <td>Branca</td>\n",
       "      <td>Não Respondeu</td>\n",
       "      <td>AL</td>\n",
       "      <td>Até R$ 1.100,00</td>\n",
       "      <td>Não</td>\n",
       "    </tr>\n",
       "    <tr>\n",
       "      <th>2</th>\n",
       "      <td>Entre 36 e 40 anos</td>\n",
       "      <td>Feminino</td>\n",
       "      <td>Branca</td>\n",
       "      <td>Não Respondeu</td>\n",
       "      <td>SP</td>\n",
       "      <td>De R$ 1.100,01 até R$ 1.650,00.</td>\n",
       "      <td>Sim</td>\n",
       "    </tr>\n",
       "    <tr>\n",
       "      <th>3</th>\n",
       "      <td>18 anos</td>\n",
       "      <td>Masculino</td>\n",
       "      <td>Parda</td>\n",
       "      <td>Pública</td>\n",
       "      <td>CE</td>\n",
       "      <td>Até R$ 1.100,00</td>\n",
       "      <td>Sim</td>\n",
       "    </tr>\n",
       "    <tr>\n",
       "      <th>4</th>\n",
       "      <td>17 anos</td>\n",
       "      <td>Feminino</td>\n",
       "      <td>Parda</td>\n",
       "      <td>Pública</td>\n",
       "      <td>CE</td>\n",
       "      <td>De R$ 1.100,01 até R$ 1.650,00.</td>\n",
       "      <td>Sim</td>\n",
       "    </tr>\n",
       "  </tbody>\n",
       "</table>\n",
       "</div>"
      ],
      "text/plain": [
       "      TP_FAIXA_ETARIA    TP_SEXO TP_COR_RACA      TP_ESCOLA SG_UF_RESIDENCIA  \\\n",
       "0             20 anos   Feminino      Branca  Não Respondeu               MG   \n",
       "1  Entre 31 e 35 anos  Masculino      Branca  Não Respondeu               AL   \n",
       "2  Entre 36 e 40 anos   Feminino      Branca  Não Respondeu               SP   \n",
       "3             18 anos  Masculino       Parda        Pública               CE   \n",
       "4             17 anos   Feminino       Parda        Pública               CE   \n",
       "\n",
       "                              Q006 Q025  \n",
       "0  De R$ 1.650,01 até R$ 2.200,00.  Sim  \n",
       "1                  Até R$ 1.100,00  Não  \n",
       "2  De R$ 1.100,01 até R$ 1.650,00.  Sim  \n",
       "3                  Até R$ 1.100,00  Sim  \n",
       "4  De R$ 1.100,01 até R$ 1.650,00.  Sim  "
      ]
     },
     "execution_count": 4,
     "metadata": {},
     "output_type": "execute_result"
    }
   ],
   "source": [
    "enem.head()"
   ]
  },
  {
   "cell_type": "raw",
   "id": "4ecc6884",
   "metadata": {},
   "source": [
    "enem.columns"
   ]
  },
  {
   "cell_type": "code",
   "execution_count": 5,
   "id": "276edffc",
   "metadata": {},
   "outputs": [
    {
     "data": {
      "text/html": [
       "<div>\n",
       "<style scoped>\n",
       "    .dataframe tbody tr th:only-of-type {\n",
       "        vertical-align: middle;\n",
       "    }\n",
       "\n",
       "    .dataframe tbody tr th {\n",
       "        vertical-align: top;\n",
       "    }\n",
       "\n",
       "    .dataframe thead th {\n",
       "        text-align: right;\n",
       "    }\n",
       "</style>\n",
       "<table border=\"1\" class=\"dataframe\">\n",
       "  <thead>\n",
       "    <tr style=\"text-align: right;\">\n",
       "      <th></th>\n",
       "      <th>TP_FAIXA_ETARIA</th>\n",
       "      <th>TP_SEXO</th>\n",
       "      <th>TP_COR_RACA</th>\n",
       "      <th>TP_ESCOLA</th>\n",
       "      <th>SG_UF_RESIDENCIA</th>\n",
       "    </tr>\n",
       "  </thead>\n",
       "  <tbody>\n",
       "    <tr>\n",
       "      <th>0</th>\n",
       "      <td>20 anos</td>\n",
       "      <td>Feminino</td>\n",
       "      <td>Branca</td>\n",
       "      <td>Não Respondeu</td>\n",
       "      <td>MG</td>\n",
       "    </tr>\n",
       "    <tr>\n",
       "      <th>1</th>\n",
       "      <td>Entre 31 e 35 anos</td>\n",
       "      <td>Masculino</td>\n",
       "      <td>Branca</td>\n",
       "      <td>Não Respondeu</td>\n",
       "      <td>AL</td>\n",
       "    </tr>\n",
       "    <tr>\n",
       "      <th>2</th>\n",
       "      <td>Entre 36 e 40 anos</td>\n",
       "      <td>Feminino</td>\n",
       "      <td>Branca</td>\n",
       "      <td>Não Respondeu</td>\n",
       "      <td>SP</td>\n",
       "    </tr>\n",
       "    <tr>\n",
       "      <th>3</th>\n",
       "      <td>18 anos</td>\n",
       "      <td>Masculino</td>\n",
       "      <td>Parda</td>\n",
       "      <td>Pública</td>\n",
       "      <td>CE</td>\n",
       "    </tr>\n",
       "    <tr>\n",
       "      <th>4</th>\n",
       "      <td>17 anos</td>\n",
       "      <td>Feminino</td>\n",
       "      <td>Parda</td>\n",
       "      <td>Pública</td>\n",
       "      <td>CE</td>\n",
       "    </tr>\n",
       "    <tr>\n",
       "      <th>...</th>\n",
       "      <td>...</td>\n",
       "      <td>...</td>\n",
       "      <td>...</td>\n",
       "      <td>...</td>\n",
       "      <td>...</td>\n",
       "    </tr>\n",
       "    <tr>\n",
       "      <th>1048570</th>\n",
       "      <td>23 anos</td>\n",
       "      <td>Feminino</td>\n",
       "      <td>Branca</td>\n",
       "      <td>Não Respondeu</td>\n",
       "      <td>MS</td>\n",
       "    </tr>\n",
       "    <tr>\n",
       "      <th>1048571</th>\n",
       "      <td>Entre 26 e 30 anos</td>\n",
       "      <td>Feminino</td>\n",
       "      <td>Parda</td>\n",
       "      <td>Não Respondeu</td>\n",
       "      <td>SP</td>\n",
       "    </tr>\n",
       "    <tr>\n",
       "      <th>1048572</th>\n",
       "      <td>18 anos</td>\n",
       "      <td>Feminino</td>\n",
       "      <td>Parda</td>\n",
       "      <td>Pública</td>\n",
       "      <td>SP</td>\n",
       "    </tr>\n",
       "    <tr>\n",
       "      <th>1048573</th>\n",
       "      <td>18 anos</td>\n",
       "      <td>Feminino</td>\n",
       "      <td>Branca</td>\n",
       "      <td>Não Respondeu</td>\n",
       "      <td>AL</td>\n",
       "    </tr>\n",
       "    <tr>\n",
       "      <th>1048574</th>\n",
       "      <td>17 anos</td>\n",
       "      <td>Feminino</td>\n",
       "      <td>Parda</td>\n",
       "      <td>Não Respondeu</td>\n",
       "      <td>PA</td>\n",
       "    </tr>\n",
       "  </tbody>\n",
       "</table>\n",
       "<p>1048575 rows × 5 columns</p>\n",
       "</div>"
      ],
      "text/plain": [
       "            TP_FAIXA_ETARIA    TP_SEXO TP_COR_RACA      TP_ESCOLA  \\\n",
       "0                   20 anos   Feminino      Branca  Não Respondeu   \n",
       "1        Entre 31 e 35 anos  Masculino      Branca  Não Respondeu   \n",
       "2        Entre 36 e 40 anos   Feminino      Branca  Não Respondeu   \n",
       "3                   18 anos  Masculino       Parda        Pública   \n",
       "4                   17 anos   Feminino       Parda        Pública   \n",
       "...                     ...        ...         ...            ...   \n",
       "1048570             23 anos   Feminino      Branca  Não Respondeu   \n",
       "1048571  Entre 26 e 30 anos   Feminino       Parda  Não Respondeu   \n",
       "1048572             18 anos   Feminino       Parda        Pública   \n",
       "1048573             18 anos   Feminino      Branca  Não Respondeu   \n",
       "1048574             17 anos   Feminino       Parda  Não Respondeu   \n",
       "\n",
       "        SG_UF_RESIDENCIA  \n",
       "0                     MG  \n",
       "1                     AL  \n",
       "2                     SP  \n",
       "3                     CE  \n",
       "4                     CE  \n",
       "...                  ...  \n",
       "1048570               MS  \n",
       "1048571               SP  \n",
       "1048572               SP  \n",
       "1048573               AL  \n",
       "1048574               PA  \n",
       "\n",
       "[1048575 rows x 5 columns]"
      ]
     },
     "execution_count": 5,
     "metadata": {},
     "output_type": "execute_result"
    }
   ],
   "source": [
    "enem[['TP_FAIXA_ETARIA','TP_SEXO','TP_COR_RACA','TP_ESCOLA','SG_UF_RESIDENCIA']]"
   ]
  },
  {
   "cell_type": "markdown",
   "id": "edc215cd",
   "metadata": {},
   "source": [
    "Após termos os números, como a quantidade de candidatos era pujante, mostrar tais informações através de gráficos facilitaria no entendimento."
   ]
  },
  {
   "cell_type": "code",
   "execution_count": 6,
   "id": "9884455c",
   "metadata": {},
   "outputs": [
    {
     "data": {
      "text/plain": [
       "Feminino     67.503517\n",
       "Masculino    32.496388\n",
       "Name: TP_SEXO, dtype: Float64"
      ]
     },
     "execution_count": 6,
     "metadata": {},
     "output_type": "execute_result"
    }
   ],
   "source": [
    "enem['TP_SEXO'].value_counts()/enem.shape[0]*100"
   ]
  },
  {
   "cell_type": "code",
   "execution_count": 7,
   "id": "4e2ce667",
   "metadata": {},
   "outputs": [
    {
     "data": {
      "text/plain": [
       "Parda              44.7617\n",
       "Branca            38.28596\n",
       "Preta            12.197315\n",
       "Não declarado     2.147772\n",
       "Amarela           2.092173\n",
       "Indígena          0.514985\n",
       "Name: TP_COR_RACA, dtype: Float64"
      ]
     },
     "execution_count": 7,
     "metadata": {},
     "output_type": "execute_result"
    }
   ],
   "source": [
    "enem['TP_COR_RACA'].value_counts()/enem.shape[0]*100"
   ]
  },
  {
   "cell_type": "markdown",
   "id": "3d8d8268",
   "metadata": {},
   "source": [
    "Neste gráfico é possível ver as diferentes etnias que se inscreveram para o Enem 2021, e a discrepância que existe entre elas. "
   ]
  },
  {
   "cell_type": "markdown",
   "id": "12c67fed",
   "metadata": {},
   "source": [
    "De acordo com os canais jornalísticos, houve uma queda no número de inscritos de participantes indígenas, pretos e pardos. O que representa um retrocesso em relação á inclusão e diversidade de alunos em universidades públicas, já que o Enem é a forma de ingresso nas mesmas.\n",
    "\n",
    "Fonte: https://g1.globo.com/educacao/enem/2021/noticia/2021/08/27/enem-2021-cai-negros-pardos-indigenas-inscritos.ghtml"
   ]
  },
  {
   "cell_type": "code",
   "execution_count": 8,
   "id": "24f6e75c",
   "metadata": {},
   "outputs": [
    {
     "name": "stderr",
     "output_type": "stream",
     "text": [
      "C:\\Users\\user-08\\anaconda3\\lib\\site-packages\\seaborn\\_decorators.py:36: FutureWarning: Pass the following variable as a keyword arg: x. From version 0.12, the only valid positional argument will be `data`, and passing other arguments without an explicit keyword will result in an error or misinterpretation.\n",
      "  warnings.warn(\n"
     ]
    },
    {
     "data": {
      "image/png": "[encoded data removed]",
      "text/plain": [
       "<Figure size 432x288 with 1 Axes>"
      ]
     },
     "metadata": {
      "needs_background": "light"
     },
     "output_type": "display_data"
    }
   ],
   "source": [
    "sns.countplot(enem['TP_COR_RACA'])\n",
    "plt.xlabel('Cor/Raça')\n",
    "plt.xticks(rotation=90)\n",
    "plt.xlabel(\"Cor/Raça\")\n",
    "plt.ylabel(\"\")\n",
    "plt.show()"
   ]
  },
  {
   "cell_type": "markdown",
   "id": "86891cdd",
   "metadata": {},
   "source": [
    "Numa breve análise podemos ver que o número de mulheres que se inscreveram é maior que dos homens."
   ]
  },
  {
   "cell_type": "code",
   "execution_count": 9,
   "id": "8f2df69c",
   "metadata": {},
   "outputs": [
    {
     "name": "stderr",
     "output_type": "stream",
     "text": [
      "C:\\Users\\user-08\\anaconda3\\lib\\site-packages\\seaborn\\_decorators.py:36: FutureWarning: Pass the following variable as a keyword arg: x. From version 0.12, the only valid positional argument will be `data`, and passing other arguments without an explicit keyword will result in an error or misinterpretation.\n",
      "  warnings.warn(\n"
     ]
    },
    {
     "data": {
      "image/png": "[encoded data removed]",
      "text/plain": [
       "<Figure size 432x288 with 1 Axes>"
      ]
     },
     "metadata": {
      "needs_background": "light"
     },
     "output_type": "display_data"
    }
   ],
   "source": [
    "sns.countplot(enem['TP_SEXO'],hue=enem['TP_COR_RACA'], dodge=True)\n",
    "plt.title('Sexo x Cor')\n",
    "plt.xlabel('')\n",
    "plt.ylabel(\"\")\n",
    "plt.legend(loc='best')\n",
    "plt.show()"
   ]
  },
  {
   "cell_type": "code",
   "execution_count": 10,
   "id": "57420514",
   "metadata": {},
   "outputs": [
    {
     "data": {
      "text/plain": [
       "Feminino     67.503517\n",
       "Masculino    32.496388\n",
       "Name: TP_SEXO, dtype: Float64"
      ]
     },
     "execution_count": 10,
     "metadata": {},
     "output_type": "execute_result"
    }
   ],
   "source": [
    "enem['TP_SEXO'].value_counts()/enem.shape[0]*100"
   ]
  },
  {
   "cell_type": "markdown",
   "id": "ae68afca",
   "metadata": {},
   "source": [
    "Através desse gráfico podemos visualizar as quantidades de estados que mais houve inscritos no Enem 2021, como São Paulo, Ceará e Minas Gerais. Assim como os que menos houve candidatos inscritos, como Roraima, Acre e Amapá."
   ]
  },
  {
   "cell_type": "code",
   "execution_count": 11,
   "id": "021e6061",
   "metadata": {
    "scrolled": true
   },
   "outputs": [
    {
     "name": "stderr",
     "output_type": "stream",
     "text": [
      "C:\\Users\\user-08\\anaconda3\\lib\\site-packages\\seaborn\\_decorators.py:36: FutureWarning: Pass the following variable as a keyword arg: x. From version 0.12, the only valid positional argument will be `data`, and passing other arguments without an explicit keyword will result in an error or misinterpretation.\n",
      "  warnings.warn(\n"
     ]
    },
    {
     "data": {
      "image/png": "[encoded data removed]",
      "text/plain": [
       "<Figure size 432x288 with 1 Axes>"
      ]
     },
     "metadata": {
      "needs_background": "light"
     },
     "output_type": "display_data"
    }
   ],
   "source": [
    "sns.countplot(enem['SG_UF_RESIDENCIA'], orient='h')\n",
    "plt.title('Sigla UF de residência', size=15)\n",
    "plt.xticks(rotation=90)\n",
    "plt.xlabel(\"\")\n",
    "plt.ylabel(\"\")\n",
    "plt.show()\n"
   ]
  },
  {
   "cell_type": "code",
   "execution_count": 12,
   "id": "b2bd0fda",
   "metadata": {},
   "outputs": [
    {
     "data": {
      "text/plain": [
       "SP    12.986577\n",
       "CE     9.836683\n",
       "MG     8.734425\n",
       "BA     8.027847\n",
       "RJ     7.178409\n",
       "PE     6.221205\n",
       "GO     5.816561\n",
       "PA     5.140977\n",
       "RS     3.831295\n",
       "MA     3.687004\n",
       "PR      3.62387\n",
       "PB      3.35007\n",
       "PI      2.41709\n",
       "RN     2.310946\n",
       "SC     2.001669\n",
       "ES     1.930715\n",
       "DF     1.867296\n",
       "SE     1.758386\n",
       "AL     1.745893\n",
       "AM     1.733686\n",
       "MT     1.607801\n",
       "MS     1.098252\n",
       "TO     0.868321\n",
       "RO      0.85106\n",
       "AC     0.609208\n",
       "AP     0.547314\n",
       "RR     0.217343\n",
       "Name: SG_UF_RESIDENCIA, dtype: Float64"
      ]
     },
     "execution_count": 12,
     "metadata": {},
     "output_type": "execute_result"
    }
   ],
   "source": [
    "enem['SG_UF_RESIDENCIA'].value_counts()/enem.shape[0]*100"
   ]
  },
  {
   "cell_type": "code",
   "execution_count": 13,
   "id": "37c911bf",
   "metadata": {},
   "outputs": [
    {
     "data": {
      "text/html": [
       "<div>\n",
       "<style scoped>\n",
       "    .dataframe tbody tr th:only-of-type {\n",
       "        vertical-align: middle;\n",
       "    }\n",
       "\n",
       "    .dataframe tbody tr th {\n",
       "        vertical-align: top;\n",
       "    }\n",
       "\n",
       "    .dataframe thead th {\n",
       "        text-align: right;\n",
       "    }\n",
       "</style>\n",
       "<table border=\"1\" class=\"dataframe\">\n",
       "  <thead>\n",
       "    <tr style=\"text-align: right;\">\n",
       "      <th></th>\n",
       "      <th>TP_FAIXA_ETARIA</th>\n",
       "      <th>TP_SEXO</th>\n",
       "      <th>TP_COR_RACA</th>\n",
       "      <th>TP_ESCOLA</th>\n",
       "      <th>SG_UF_RESIDENCIA</th>\n",
       "      <th>Q006</th>\n",
       "      <th>Q025</th>\n",
       "    </tr>\n",
       "  </thead>\n",
       "  <tbody>\n",
       "    <tr>\n",
       "      <th>count</th>\n",
       "      <td>1048574</td>\n",
       "      <td>1048574</td>\n",
       "      <td>1048574</td>\n",
       "      <td>1048574</td>\n",
       "      <td>1048574</td>\n",
       "      <td>1048573</td>\n",
       "      <td>1048573</td>\n",
       "    </tr>\n",
       "    <tr>\n",
       "      <th>unique</th>\n",
       "      <td>20</td>\n",
       "      <td>2</td>\n",
       "      <td>6</td>\n",
       "      <td>3</td>\n",
       "      <td>27</td>\n",
       "      <td>17</td>\n",
       "      <td>2</td>\n",
       "    </tr>\n",
       "    <tr>\n",
       "      <th>top</th>\n",
       "      <td>18 anos</td>\n",
       "      <td>Feminino</td>\n",
       "      <td>Parda</td>\n",
       "      <td>Não Respondeu</td>\n",
       "      <td>SP</td>\n",
       "      <td>Até R$ 1.100,00</td>\n",
       "      <td>Sim</td>\n",
       "    </tr>\n",
       "    <tr>\n",
       "      <th>freq</th>\n",
       "      <td>272709</td>\n",
       "      <td>707825</td>\n",
       "      <td>469360</td>\n",
       "      <td>586061</td>\n",
       "      <td>136174</td>\n",
       "      <td>334613</td>\n",
       "      <td>933918</td>\n",
       "    </tr>\n",
       "  </tbody>\n",
       "</table>\n",
       "</div>"
      ],
      "text/plain": [
       "       TP_FAIXA_ETARIA   TP_SEXO TP_COR_RACA      TP_ESCOLA SG_UF_RESIDENCIA  \\\n",
       "count          1048574   1048574     1048574        1048574          1048574   \n",
       "unique              20         2           6              3               27   \n",
       "top            18 anos  Feminino       Parda  Não Respondeu               SP   \n",
       "freq            272709    707825      469360         586061           136174   \n",
       "\n",
       "                   Q006     Q025  \n",
       "count           1048573  1048573  \n",
       "unique               17        2  \n",
       "top     Até R$ 1.100,00      Sim  \n",
       "freq             334613   933918  "
      ]
     },
     "execution_count": 13,
     "metadata": {},
     "output_type": "execute_result"
    }
   ],
   "source": [
    "enem.describe()"
   ]
  },
  {
   "cell_type": "markdown",
   "id": "58b319e9",
   "metadata": {},
   "source": [
    "Foi feita uma análise entre a faixa etaria dos inscritos, onde mostra que a maioria ainda está entre 17 e 19 anos, época onde muitos ainda tentam uma bolsa nas universidades logo que saem do ensino médio."
   ]
  },
  {
   "cell_type": "code",
   "execution_count": 14,
   "id": "edbc6413",
   "metadata": {},
   "outputs": [
    {
     "data": {
      "image/png": "[encoded data removed]",
      "text/plain": [
       "<Figure size 432x288 with 1 Axes>"
      ]
     },
     "metadata": {
      "needs_background": "light"
     },
     "output_type": "display_data"
    }
   ],
   "source": [
    "y=['Menor de 17 anos',       \n",
    "'17 anos',\n",
    "'18 anos',                    \n",
    "'19 anos',              \n",
    "'20 anos',              \n",
    "'21 anos',             \n",
    "'22 anos',            \n",
    "'23 anos',\n",
    "'24 anos',               \n",
    "'25 anos',              \n",
    "'Entre 26 e 30 anos',    \n",
    "'Entre 31 e 35 anos',     \n",
    "'Entre 36 e 40 anos',     \n",
    "'Entre 41 e 45 anos',    \n",
    "'Entre 46 e 50 anos',    \n",
    "'Entre 51 e 55 anos',    \n",
    "'Entre 56 e 60 anos',    \n",
    "'Entre 61 e 65 anos',    \n",
    "'Entre 66 e 70 anos',   \n",
    "'Maior de 70 anos',] \n",
    "x=[6.595713,\n",
    "22.297308,\n",
    "26.007582,\n",
    "13.163198,\n",
    "7.644088,\n",
    "4.793076,\n",
    "3.280357,\n",
    "2.316668,\n",
    "1.906778,\n",
    "1.471426,\n",
    "4.368882,\n",
    "2.29378,\n",
    "1.65558,\n",
    "1.018716,\n",
    "0.603009,\n",
    "0.327778,\n",
    "0.164414,\n",
    "0.061894,\n",
    "0.020695,\n",
    "0.008965,]  \n",
    "plt.barh(y, x) ,\n",
    "\n",
    "plt.ylabel(\"\") \n",
    "plt.xlabel(\"\")  \n",
    "plt.title(\"Faixa Etária\") \n",
    "plt.show()"
   ]
  },
  {
   "cell_type": "code",
   "execution_count": 15,
   "id": "f99f8ae3",
   "metadata": {},
   "outputs": [
    {
     "data": {
      "text/plain": [
       "18 anos               26.007582\n",
       "17 anos               22.297308\n",
       "19 anos               13.163198\n",
       "20 anos                7.644088\n",
       "Menor de 17 anos       6.595713\n",
       "21 anos                4.793076\n",
       "Entre 26 e 30 anos     4.368882\n",
       "22 anos                3.280357\n",
       "23 anos                2.316668\n",
       "Entre 31 e 35 anos      2.29378\n",
       "24 anos                1.906778\n",
       "Entre 36 e 40 anos      1.65558\n",
       "25 anos                1.471426\n",
       "Entre 41 e 45 anos     1.018716\n",
       "Entre 46 e 50 anos     0.603009\n",
       "Entre 51 e 55 anos     0.327778\n",
       "Entre 56 e 60 anos     0.164414\n",
       "Entre 61 e 65 anos     0.061894\n",
       "Entre 66 e 70 anos     0.020695\n",
       "Maior de 70 anos       0.008965\n",
       "Name: TP_FAIXA_ETARIA, dtype: Float64"
      ]
     },
     "execution_count": 15,
     "metadata": {},
     "output_type": "execute_result"
    }
   ],
   "source": [
    "enem['TP_FAIXA_ETARIA'].value_counts()/enem.shape[0]*100"
   ]
  },
  {
   "cell_type": "code",
   "execution_count": 16,
   "id": "044f0ddf",
   "metadata": {},
   "outputs": [],
   "source": [
    "from scipy import stats\n",
    "from statsmodels.stats import diagnostic"
   ]
  },
  {
   "cell_type": "markdown",
   "id": "9be31dfb",
   "metadata": {},
   "source": [
    "No gráfico abaixo é mostrado a porcentagem de candidatos sem acesso a internet na própria residência."
   ]
  },
  {
   "cell_type": "code",
   "execution_count": 17,
   "id": "1c7e54b6",
   "metadata": {},
   "outputs": [
    {
     "data": {
      "image/png": "[encoded data removed]",
      "text/plain": [
       "<Figure size 432x288 with 1 Axes>"
      ]
     },
     "metadata": {},
     "output_type": "display_data"
    }
   ],
   "source": [
    "labels = 'Sem internet', 'Com internet'\n",
    "sizes = [10.934459, 89.065446]\n",
    "figl, axl = plt.subplots()\n",
    "axl.pie(sizes, labels=labels, autopct='%1.1f%%',\n",
    "       shadow=True, startangle=90)\n",
    "axl.axis('equal')\n",
    "plt.show()"
   ]
  },
  {
   "cell_type": "markdown",
   "id": "c0755c9e",
   "metadata": {},
   "source": [
    "Alunos de escola pública ainda são a maioria entre os candidatos, se não contarmos com as grande porcentagem de \"não respondeu\"."
   ]
  },
  {
   "cell_type": "code",
   "execution_count": 18,
   "id": "de1053f7",
   "metadata": {},
   "outputs": [
    {
     "data": {
      "text/plain": [
       "Sim    89.065446\n",
       "Não    10.934363\n",
       "Name: Q025, dtype: Float64"
      ]
     },
     "execution_count": 18,
     "metadata": {},
     "output_type": "execute_result"
    }
   ],
   "source": [
    "enem['Q025'].value_counts()/enem.shape[0]*100"
   ]
  },
  {
   "cell_type": "code",
   "execution_count": 19,
   "id": "81d2846e",
   "metadata": {
    "scrolled": true
   },
   "outputs": [
    {
     "data": {
      "image/png": "[encoded data removed]",
      "text/plain": [
       "<Figure size 432x288 with 1 Axes>"
      ]
     },
     "metadata": {},
     "output_type": "display_data"
    }
   ],
   "source": [
    "labels = 'Privada', 'Pública', 'Não respondeu'\n",
    "sizes = [5.778032, 38.330687, 55.891281]\n",
    "figl, axl = plt.subplots()\n",
    "axl.pie(sizes, labels=labels, autopct='%1.1f%%',\n",
    "       shadow=True, startangle=90)\n",
    "axl.axis('equal')\n",
    "plt.show()"
   ]
  },
  {
   "cell_type": "code",
   "execution_count": 20,
   "id": "bd82fb22",
   "metadata": {
    "scrolled": true
   },
   "outputs": [
    {
     "data": {
      "text/plain": [
       "Não Respondeu    55.891186\n",
       "Pública          38.330687\n",
       "Privada           5.778032\n",
       "Name: TP_ESCOLA, dtype: Float64"
      ]
     },
     "execution_count": 20,
     "metadata": {},
     "output_type": "execute_result"
    }
   ],
   "source": [
    "enem['TP_ESCOLA'].value_counts()/enem.shape[0]*100"
   ]
  },
  {
   "cell_type": "markdown",
   "id": "237f64e8",
   "metadata": {},
   "source": [
    "Logo abaixo, conseguimos ter uma ideia sobre a renda fixa - por pessoa - na residência entre candidatos. Nota-se um grande número de \"nenhuma renda\" fixa."
   ]
  },
  {
   "cell_type": "code",
   "execution_count": 21,
   "id": "a230bce0",
   "metadata": {},
   "outputs": [
    {
     "data": {
      "text/plain": [
       "Até R$ 1.100,00                      31.911213\n",
       "De R$ 1.100,01 até R$ 1.650,00.      17.595213\n",
       "De R$ 1.650,01 até R$ 2.200,00.      12.297642\n",
       "Nenhuma Renda                         7.034213\n",
       "De R$ 2.750,01 até R$ 3.300,00.       6.256968\n",
       "De R$ 2.200,01 até R$ 2.750,00.       5.729776\n",
       "De R$ 3.300,01 até R$ 4.400,00.       4.957395\n",
       "De R$ 4.400,01 até R$ 5.500,00.       3.685192\n",
       "De R$ 5.500,01 até R$ 6.600,00.        2.24848\n",
       "De R$ 6.600,01 até R$ 7.700,00.       1.356889\n",
       "De R$ 9.900,01 até R$ 11.000,00.      1.307489\n",
       "Acima de R$ 22.000,00.                1.066686\n",
       "De R$ 7.700,01 até R$ 8.800,00.       1.048566\n",
       "De R$ 13.200,01 até R$ 16.500,00.     0.894547\n",
       "De R$ 8.800,01 até R$ 9.900,00.       0.891496\n",
       "De R$ 16.500,01 até R$ 22.000,00.     0.890447\n",
       "De R$ 11.000,01 até R$ 13.200,00.     0.827599\n",
       "Name: Q006, dtype: Float64"
      ]
     },
     "execution_count": 21,
     "metadata": {},
     "output_type": "execute_result"
    }
   ],
   "source": [
    "enem['Q006'].value_counts()/enem.shape[0]*100"
   ]
  },
  {
   "cell_type": "code",
   "execution_count": 22,
   "id": "0068f787",
   "metadata": {},
   "outputs": [
    {
     "data": {
      "image/png": "[encoded data removed]",
      "text/plain": [
       "<Figure size 432x288 with 1 Axes>"
      ]
     },
     "metadata": {
      "needs_background": "light"
     },
     "output_type": "display_data"
    }
   ],
   "source": [
    "y=['Até R$ 1.100,00',                   \n",
    "'De R$ 1.100,01 até R$ 1.650,00',\n",
    "'De R$ 1.650,01 até R$ 2.200,00',  \n",
    "'Nenhuma Renda',              \n",
    "'De R$ 2.750,01 até R$ 3.300,00', \n",
    "'De R$ 2.200,01 até R$ 2.750,00', \n",
    "'De R$ 3.300,01 até R$ 4.400,00', \n",
    "'De R$ 4.400,01 até R$ 5.500,00', \n",
    "'De R$ 5.500,01 até R$ 6.600,00', \n",
    "'De R$ 6.600,01 até R$ 7.700,00', \n",
    "'De R$ 9.900,01 até R$ 11.000,00', \n",
    "'Acima de R$ 22.000,00', \n",
    "'De R$ 7.700,01 até R$ 8.800,00', \n",
    "'De R$ 13.200,01 até R$ 16.500,00', \n",
    "'De R$ 8.800,01 até R$ 9.900,00', \n",
    "'De R$ 16.500,01 até R$ 22.000,00', \n",
    "'De R$ 11.000,01 até R$ 13.200,00',] \n",
    "x=[31.911213,\n",
    "17.595213,\n",
    "12.297642,\n",
    "7.034308,\n",
    "6.256968,\n",
    "5.729776,\n",
    "4.957395,\n",
    "3.685192,\n",
    "2.24848,\n",
    "1.356889,\n",
    "1.307489,\n",
    "1.066686,\n",
    "1.048566,\n",
    "0.894547,\n",
    "0.891496,\n",
    "0.890447,\n",
    "0.827599,]  \n",
    "plt.barh(y, x) \n",
    "plt.ylabel(\"\") \n",
    "plt.xlabel(\"\")  \n",
    "plt.title(\"Renda fixa por pessoa\") \n",
    "plt.show()\n"
   ]
  },
  {
   "cell_type": "markdown",
   "id": "982a190b",
   "metadata": {},
   "source": [
    "Com essas informações podemos concluir que o número de inscritos do sexo feminino é maior que o masculino, independente da Cor/Raça.\n",
    "Concluímos também que jovens de 17 a 19 anos, época onde muitos ainda tentam uma bolsa nas universidades logo que saem do ensino médio.\n",
    "Além disso, podemos ver que quanto maior a renda, menor o número de inscrição no Enem."
   ]
  }
 ],
 "metadata": {
  "kernelspec": {
   "display_name": "Python 3 (ipykernel)",
   "language": "python",
   "name": "python3"
  },
  "language_info": {
   "codemirror_mode": {
    "name": "ipython",
    "version": 3
   },
   "file_extension": ".py",
   "mimetype": "text/x-python",
   "name": "python",
   "nbconvert_exporter": "python",
   "pygments_lexer": "ipython3",
   "version": "3.9.12"
  }
 },
 "nbformat": 4,
 "nbformat_minor": 5
}
